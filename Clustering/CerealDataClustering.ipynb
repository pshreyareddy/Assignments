{
 "cells": [
  {
   "cell_type": "code",
   "execution_count": 22,
   "metadata": {},
   "outputs": [],
   "source": [
    "import pandas as pd \n",
    "import numpy as np\n",
    "import matplotlib.pyplot as plt\n",
    "from sklearn.cluster import KMeans\n",
    "from sklearn.cluster import AgglomerativeClustering\n",
    "from sklearn.decomposition import PCA\n",
    "from sklearn.preprocessing import StandardScaler\n",
    "from sklearn.model_selection import train_test_split\n",
    "from sklearn.metrics import accuracy_score, recall_score,precision_score,confusion_matrix,mean_absolute_error,mean_squared_error\n",
    "%matplotlib inline\n"
   ]
  },
  {
   "cell_type": "code",
   "execution_count": 23,
   "metadata": {},
   "outputs": [],
   "source": [
    "import os\n",
    "os.chdir(\"C:/Users/Hai/Desktop/insofe/Week8/20180728_Bach46_CSE7305c_Lab01_Clustering_Lab01 (1)\")"
   ]
  },
  {
   "cell_type": "code",
   "execution_count": 24,
   "metadata": {},
   "outputs": [
    {
     "data": {
      "text/plain": [
       "name         object\n",
       "calories      int64\n",
       "protein       int64\n",
       "fat           int64\n",
       "sodium        int64\n",
       "fiber       float64\n",
       "carbo       float64\n",
       "sugars      float64\n",
       "potass      float64\n",
       "vitamins      int64\n",
       "shelf         int64\n",
       "weight      float64\n",
       "cups        float64\n",
       "rating      float64\n",
       "dtype: object"
      ]
     },
     "execution_count": 24,
     "metadata": {},
     "output_type": "execute_result"
    }
   ],
   "source": [
    "cereal = pd.read_csv(\"Cereals.csv\")\n",
    "cereal.head()\n",
    "cereal.columns\n",
    "cereal.dtypes\n"
   ]
  },
  {
   "cell_type": "code",
   "execution_count": 16,
   "metadata": {
    "scrolled": true
   },
   "outputs": [
    {
     "data": {
      "text/plain": [
       "3    36\n",
       "2    21\n",
       "1    20\n",
       "Name: shelf, dtype: int64"
      ]
     },
     "execution_count": 16,
     "metadata": {},
     "output_type": "execute_result"
    }
   ],
   "source": [
    "\n",
    "#cereal['shelf'] = cereal['shelf'].astype(\"category\")\n",
    "#cereal['shelf'].value_counts()\n"
   ]
  },
  {
   "cell_type": "code",
   "execution_count": 25,
   "metadata": {},
   "outputs": [
    {
     "data": {
      "text/html": [
       "<div>\n",
       "<style scoped>\n",
       "    .dataframe tbody tr th:only-of-type {\n",
       "        vertical-align: middle;\n",
       "    }\n",
       "\n",
       "    .dataframe tbody tr th {\n",
       "        vertical-align: top;\n",
       "    }\n",
       "\n",
       "    .dataframe thead th {\n",
       "        text-align: right;\n",
       "    }\n",
       "</style>\n",
       "<table border=\"1\" class=\"dataframe\">\n",
       "  <thead>\n",
       "    <tr style=\"text-align: right;\">\n",
       "      <th></th>\n",
       "      <th>name</th>\n",
       "      <th>calories</th>\n",
       "      <th>protein</th>\n",
       "      <th>fat</th>\n",
       "      <th>sodium</th>\n",
       "      <th>fiber</th>\n",
       "      <th>carbo</th>\n",
       "      <th>sugars</th>\n",
       "      <th>potass</th>\n",
       "      <th>vitamins</th>\n",
       "      <th>shelf</th>\n",
       "      <th>weight</th>\n",
       "      <th>cups</th>\n",
       "      <th>rating</th>\n",
       "    </tr>\n",
       "  </thead>\n",
       "  <tbody>\n",
       "    <tr>\n",
       "      <th>0</th>\n",
       "      <td>100%_Bran</td>\n",
       "      <td>70</td>\n",
       "      <td>4</td>\n",
       "      <td>1</td>\n",
       "      <td>130</td>\n",
       "      <td>10.0</td>\n",
       "      <td>5.0</td>\n",
       "      <td>6.0</td>\n",
       "      <td>280.0</td>\n",
       "      <td>25</td>\n",
       "      <td>3</td>\n",
       "      <td>1.0</td>\n",
       "      <td>0.33</td>\n",
       "      <td>68.402973</td>\n",
       "    </tr>\n",
       "    <tr>\n",
       "      <th>1</th>\n",
       "      <td>100%_Natural_Bran</td>\n",
       "      <td>120</td>\n",
       "      <td>3</td>\n",
       "      <td>5</td>\n",
       "      <td>15</td>\n",
       "      <td>2.0</td>\n",
       "      <td>8.0</td>\n",
       "      <td>8.0</td>\n",
       "      <td>135.0</td>\n",
       "      <td>0</td>\n",
       "      <td>3</td>\n",
       "      <td>1.0</td>\n",
       "      <td>1.00</td>\n",
       "      <td>33.983679</td>\n",
       "    </tr>\n",
       "    <tr>\n",
       "      <th>2</th>\n",
       "      <td>All-Bran</td>\n",
       "      <td>70</td>\n",
       "      <td>4</td>\n",
       "      <td>1</td>\n",
       "      <td>260</td>\n",
       "      <td>9.0</td>\n",
       "      <td>7.0</td>\n",
       "      <td>5.0</td>\n",
       "      <td>320.0</td>\n",
       "      <td>25</td>\n",
       "      <td>3</td>\n",
       "      <td>1.0</td>\n",
       "      <td>0.33</td>\n",
       "      <td>59.425505</td>\n",
       "    </tr>\n",
       "    <tr>\n",
       "      <th>3</th>\n",
       "      <td>All-Bran_with_Extra_Fiber</td>\n",
       "      <td>50</td>\n",
       "      <td>4</td>\n",
       "      <td>0</td>\n",
       "      <td>140</td>\n",
       "      <td>14.0</td>\n",
       "      <td>8.0</td>\n",
       "      <td>0.0</td>\n",
       "      <td>330.0</td>\n",
       "      <td>25</td>\n",
       "      <td>3</td>\n",
       "      <td>1.0</td>\n",
       "      <td>0.50</td>\n",
       "      <td>93.704912</td>\n",
       "    </tr>\n",
       "    <tr>\n",
       "      <th>4</th>\n",
       "      <td>Almond_Delight</td>\n",
       "      <td>110</td>\n",
       "      <td>2</td>\n",
       "      <td>2</td>\n",
       "      <td>200</td>\n",
       "      <td>1.0</td>\n",
       "      <td>14.0</td>\n",
       "      <td>8.0</td>\n",
       "      <td>NaN</td>\n",
       "      <td>25</td>\n",
       "      <td>3</td>\n",
       "      <td>1.0</td>\n",
       "      <td>0.75</td>\n",
       "      <td>34.384843</td>\n",
       "    </tr>\n",
       "  </tbody>\n",
       "</table>\n",
       "</div>"
      ],
      "text/plain": [
       "                        name  calories  protein  fat  sodium  fiber  carbo  \\\n",
       "0                  100%_Bran        70        4    1     130   10.0    5.0   \n",
       "1          100%_Natural_Bran       120        3    5      15    2.0    8.0   \n",
       "2                   All-Bran        70        4    1     260    9.0    7.0   \n",
       "3  All-Bran_with_Extra_Fiber        50        4    0     140   14.0    8.0   \n",
       "4             Almond_Delight       110        2    2     200    1.0   14.0   \n",
       "\n",
       "   sugars  potass  vitamins  shelf  weight  cups     rating  \n",
       "0     6.0   280.0        25      3     1.0  0.33  68.402973  \n",
       "1     8.0   135.0         0      3     1.0  1.00  33.983679  \n",
       "2     5.0   320.0        25      3     1.0  0.33  59.425505  \n",
       "3     0.0   330.0        25      3     1.0  0.50  93.704912  \n",
       "4     8.0     NaN        25      3     1.0  0.75  34.384843  "
      ]
     },
     "execution_count": 25,
     "metadata": {},
     "output_type": "execute_result"
    }
   ],
   "source": [
    "cereal.head(5)"
   ]
  },
  {
   "cell_type": "code",
   "execution_count": 26,
   "metadata": {},
   "outputs": [],
   "source": [
    "numeric_vars = cereal.drop(['name','rating'],axis=1)"
   ]
  },
  {
   "cell_type": "code",
   "execution_count": 27,
   "metadata": {},
   "outputs": [],
   "source": [
    "# Divide  data in to train and test\n",
    "  \n",
    "X_train, X_test= train_test_split(numeric_vars, test_size=0.150) "
   ]
  },
  {
   "cell_type": "code",
   "execution_count": 28,
   "metadata": {},
   "outputs": [
    {
     "name": "stdout",
     "output_type": "stream",
     "text": [
      "(65, 12)\n",
      "(12, 12)\n"
     ]
    }
   ],
   "source": [
    "print(X_train.shape)\n",
    "print(X_test.shape)"
   ]
  },
  {
   "cell_type": "code",
   "execution_count": 30,
   "metadata": {},
   "outputs": [
    {
     "data": {
      "text/plain": [
       "calories    0\n",
       "protein     0\n",
       "fat         0\n",
       "sodium      0\n",
       "fiber       0\n",
       "carbo       1\n",
       "sugars      1\n",
       "potass      2\n",
       "vitamins    0\n",
       "shelf       0\n",
       "weight      0\n",
       "cups        0\n",
       "dtype: int64"
      ]
     },
     "execution_count": 30,
     "metadata": {},
     "output_type": "execute_result"
    }
   ],
   "source": [
    "numeric_vars.isnull().sum()\n",
    "\n",
    "numeric_vars.dropna()"
   ]
  },
  {
   "cell_type": "code",
   "execution_count": 32,
   "metadata": {},
   "outputs": [],
   "source": [
    "from sklearn.preprocessing import Imputer\n",
    "mean_imputer = Imputer(strategy=\"mean\")\n",
    "mean_imputer.fit(numeric_vars)\n",
    "imputed_numeric_vars = pd.DataFrame(mean_imputer.fit_transform(numeric_vars))"
   ]
  },
  {
   "cell_type": "code",
   "execution_count": 35,
   "metadata": {},
   "outputs": [
    {
     "name": "stdout",
     "output_type": "stream",
     "text": [
      "       0    1    2      3     4          5          6           7      8   \\\n",
      "0    70.0  4.0  1.0  130.0  10.0   5.000000   6.000000  280.000000   25.0   \n",
      "1   120.0  3.0  5.0   15.0   2.0   8.000000   8.000000  135.000000    0.0   \n",
      "2    70.0  4.0  1.0  260.0   9.0   7.000000   5.000000  320.000000   25.0   \n",
      "3    50.0  4.0  0.0  140.0  14.0   8.000000   0.000000  330.000000   25.0   \n",
      "4   110.0  2.0  2.0  200.0   1.0  14.000000   8.000000   98.666667   25.0   \n",
      "5   110.0  2.0  2.0  180.0   1.5  10.500000  10.000000   70.000000   25.0   \n",
      "6   110.0  2.0  0.0  125.0   1.0  11.000000  14.000000   30.000000   25.0   \n",
      "7   130.0  3.0  2.0  210.0   2.0  18.000000   8.000000  100.000000   25.0   \n",
      "8    90.0  2.0  1.0  200.0   4.0  15.000000   6.000000  125.000000   25.0   \n",
      "9    90.0  3.0  0.0  210.0   5.0  13.000000   5.000000  190.000000   25.0   \n",
      "10  120.0  1.0  2.0  220.0   0.0  12.000000  12.000000   35.000000   25.0   \n",
      "11  110.0  6.0  2.0  290.0   2.0  17.000000   1.000000  105.000000   25.0   \n",
      "12  120.0  1.0  3.0  210.0   0.0  13.000000   9.000000   45.000000   25.0   \n",
      "13  110.0  3.0  2.0  140.0   2.0  13.000000   7.000000  105.000000   25.0   \n",
      "14  110.0  1.0  1.0  180.0   0.0  12.000000  13.000000   55.000000   25.0   \n",
      "15  110.0  2.0  0.0  280.0   0.0  22.000000   3.000000   25.000000   25.0   \n",
      "16  100.0  2.0  0.0  290.0   1.0  21.000000   2.000000   35.000000   25.0   \n",
      "17  110.0  1.0  0.0   90.0   1.0  13.000000  12.000000   20.000000   25.0   \n",
      "18  110.0  1.0  1.0  180.0   0.0  12.000000  13.000000   65.000000   25.0   \n",
      "19  110.0  3.0  3.0  140.0   4.0  10.000000   7.000000  160.000000   25.0   \n",
      "20  100.0  3.0  0.0   80.0   1.0  21.000000   0.000000   98.666667    0.0   \n",
      "21  110.0  2.0  0.0  220.0   1.0  21.000000   3.000000   30.000000   25.0   \n",
      "22  100.0  2.0  1.0  140.0   2.0  11.000000  10.000000  120.000000   25.0   \n",
      "23  100.0  2.0  0.0  190.0   1.0  18.000000   5.000000   80.000000   25.0   \n",
      "24  110.0  2.0  1.0  125.0   1.0  11.000000  13.000000   30.000000   25.0   \n",
      "25  110.0  1.0  0.0  200.0   1.0  14.000000  11.000000   25.000000   25.0   \n",
      "26  100.0  3.0  0.0    0.0   3.0  14.000000   7.000000  100.000000   25.0   \n",
      "27  120.0  3.0  2.0  160.0   5.0  12.000000  10.000000  200.000000   25.0   \n",
      "28  120.0  3.0  0.0  240.0   5.0  14.000000  12.000000  190.000000   25.0   \n",
      "29  110.0  1.0  1.0  135.0   0.0  13.000000  12.000000   25.000000   25.0   \n",
      "..    ...  ...  ...    ...   ...        ...        ...         ...    ...   \n",
      "47  100.0  2.0  1.0  220.0   2.0  15.000000   6.000000   90.000000   25.0   \n",
      "48  120.0  2.0  1.0  190.0   0.0  15.000000   9.000000   40.000000   25.0   \n",
      "49  140.0  3.0  2.0  220.0   3.0  21.000000   7.000000  130.000000   25.0   \n",
      "50   90.0  3.0  0.0  170.0   3.0  18.000000   2.000000   90.000000   25.0   \n",
      "51  130.0  3.0  2.0  170.0   1.5  13.500000  10.000000  120.000000   25.0   \n",
      "52  120.0  3.0  1.0  200.0   6.0  11.000000  14.000000  260.000000   25.0   \n",
      "53  100.0  3.0  0.0  320.0   1.0  20.000000   3.000000   45.000000  100.0   \n",
      "54   50.0  1.0  0.0    0.0   0.0  13.000000   0.000000   15.000000    0.0   \n",
      "55   50.0  2.0  0.0    0.0   1.0  10.000000   0.000000   50.000000    0.0   \n",
      "56  100.0  4.0  1.0  135.0   2.0  14.000000   6.000000  110.000000   25.0   \n",
      "57  100.0  5.0  2.0    0.0   2.7  14.802632   7.026316  110.000000    0.0   \n",
      "58  120.0  3.0  1.0  210.0   5.0  14.000000  12.000000  240.000000   25.0   \n",
      "59  100.0  3.0  2.0  140.0   2.5  10.500000   8.000000  140.000000   25.0   \n",
      "60   90.0  2.0  0.0    0.0   2.0  15.000000   6.000000  110.000000   25.0   \n",
      "61  110.0  1.0  0.0  240.0   0.0  23.000000   2.000000   30.000000   25.0   \n",
      "62  110.0  2.0  0.0  290.0   0.0  22.000000   3.000000   35.000000   25.0   \n",
      "63   80.0  2.0  0.0    0.0   3.0  16.000000   0.000000   95.000000    0.0   \n",
      "64   90.0  3.0  0.0    0.0   4.0  19.000000   0.000000  140.000000    0.0   \n",
      "65   90.0  3.0  0.0    0.0   3.0  20.000000   0.000000  120.000000    0.0   \n",
      "66  110.0  2.0  1.0   70.0   1.0   9.000000  15.000000   40.000000   25.0   \n",
      "67  110.0  6.0  0.0  230.0   1.0  16.000000   3.000000   55.000000   25.0   \n",
      "68   90.0  2.0  0.0   15.0   3.0  15.000000   5.000000   90.000000   25.0   \n",
      "69  110.0  2.0  1.0  200.0   0.0  21.000000   3.000000   35.000000  100.0   \n",
      "70  140.0  3.0  1.0  190.0   4.0  15.000000  14.000000  230.000000  100.0   \n",
      "71  100.0  3.0  1.0  200.0   3.0  16.000000   3.000000  110.000000  100.0   \n",
      "72  110.0  2.0  1.0  250.0   0.0  21.000000   3.000000   60.000000   25.0   \n",
      "73  110.0  1.0  1.0  140.0   0.0  13.000000  12.000000   25.000000   25.0   \n",
      "74  100.0  3.0  1.0  230.0   3.0  17.000000   3.000000  115.000000   25.0   \n",
      "75  100.0  3.0  1.0  200.0   3.0  17.000000   3.000000  110.000000   25.0   \n",
      "76  110.0  2.0  1.0  200.0   1.0  16.000000   8.000000   60.000000   25.0   \n",
      "\n",
      "     9     10    11  \n",
      "0   3.0  1.00  0.33  \n",
      "1   3.0  1.00  1.00  \n",
      "2   3.0  1.00  0.33  \n",
      "3   3.0  1.00  0.50  \n",
      "4   3.0  1.00  0.75  \n",
      "5   1.0  1.00  0.75  \n",
      "6   2.0  1.00  1.00  \n",
      "7   3.0  1.33  0.75  \n",
      "8   1.0  1.00  0.67  \n",
      "9   3.0  1.00  0.67  \n",
      "10  2.0  1.00  0.75  \n",
      "11  1.0  1.00  1.25  \n",
      "12  2.0  1.00  0.75  \n",
      "13  3.0  1.00  0.50  \n",
      "14  2.0  1.00  1.00  \n",
      "15  1.0  1.00  1.00  \n",
      "16  1.0  1.00  1.00  \n",
      "17  2.0  1.00  1.00  \n",
      "18  2.0  1.00  1.00  \n",
      "19  3.0  1.00  0.50  \n",
      "20  2.0  1.00  1.00  \n",
      "21  3.0  1.00  1.00  \n",
      "22  3.0  1.00  0.75  \n",
      "23  3.0  1.00  0.75  \n",
      "24  2.0  1.00  1.00  \n",
      "25  1.0  1.00  0.75  \n",
      "26  2.0  1.00  0.80  \n",
      "27  3.0  1.25  0.67  \n",
      "28  3.0  1.33  0.67  \n",
      "29  2.0  1.00  0.75  \n",
      "..  ...   ...   ...  \n",
      "47  1.0  1.00  1.00  \n",
      "48  2.0  1.00  0.67  \n",
      "49  3.0  1.33  0.67  \n",
      "50  3.0  1.00  1.00  \n",
      "51  3.0  1.25  0.50  \n",
      "52  3.0  1.33  0.67  \n",
      "53  3.0  1.00  1.00  \n",
      "54  3.0  0.50  1.00  \n",
      "55  3.0  0.50  1.00  \n",
      "56  3.0  1.00  0.50  \n",
      "57  1.0  1.00  0.67  \n",
      "58  2.0  1.33  0.75  \n",
      "59  3.0  1.00  0.50  \n",
      "60  3.0  1.00  0.50  \n",
      "61  1.0  1.00  1.13  \n",
      "62  1.0  1.00  1.00  \n",
      "63  1.0  0.83  1.00  \n",
      "64  1.0  1.00  0.67  \n",
      "65  1.0  1.00  0.67  \n",
      "66  2.0  1.00  0.75  \n",
      "67  1.0  1.00  1.00  \n",
      "68  2.0  1.00  1.00  \n",
      "69  3.0  1.00  1.00  \n",
      "70  3.0  1.50  1.00  \n",
      "71  3.0  1.00  1.00  \n",
      "72  3.0  1.00  0.75  \n",
      "73  2.0  1.00  1.00  \n",
      "74  1.0  1.00  0.67  \n",
      "75  1.0  1.00  1.00  \n",
      "76  1.0  1.00  0.75  \n",
      "\n",
      "[77 rows x 12 columns]\n"
     ]
    }
   ],
   "source": [
    "print(imputed_numeric_vars)"
   ]
  },
  {
   "cell_type": "code",
   "execution_count": 37,
   "metadata": {},
   "outputs": [],
   "source": [
    "# Divide  data in to train and test\n",
    "  \n",
    "X_train, X_test= train_test_split(imputed_numeric_vars, test_size=0.150) "
   ]
  },
  {
   "cell_type": "code",
   "execution_count": 38,
   "metadata": {},
   "outputs": [
    {
     "name": "stdout",
     "output_type": "stream",
     "text": [
      "(65, 12)\n",
      "(12, 12)\n"
     ]
    }
   ],
   "source": [
    "print(X_train.shape)\n",
    "print(X_test.shape)"
   ]
  },
  {
   "cell_type": "code",
   "execution_count": 39,
   "metadata": {},
   "outputs": [],
   "source": [
    "std = StandardScaler()\n",
    "std.fit(X_train)\n",
    "X_train_std= std.transform(X_train)\n",
    "X_test_std= std.transform(X_test)"
   ]
  },
  {
   "cell_type": "code",
   "execution_count": 40,
   "metadata": {},
   "outputs": [
    {
     "data": {
      "text/plain": [
       "array([[-0.92941621,  0.40389283, -0.99239533, -2.09681714,  0.30990636,\n",
       "         1.24339512, -1.58114284,  0.24115009, -1.25640002, -1.523753  ,\n",
       "        -0.26279598, -0.65439283],\n",
       "       [ 0.1212282 , -1.4713239 , -0.99239533,  0.39710992, -0.48787239,\n",
       "        -0.26492244,  0.96506691, -1.06203118, -0.1958026 , -1.523753  ,\n",
       "        -0.26279598, -0.31512636],\n",
       "       [ 0.64655041, -1.4713239 ,  1.98479065,  0.52180628, -0.88676177,\n",
       "        -0.5163087 ,  0.50211969, -0.78767723, -0.1958026 , -0.31590001,\n",
       "        -0.26279598, -0.31512636],\n",
       "       [ 1.17187262,  0.40389283,  0.99239533,  0.02302087, -0.2884277 ,\n",
       "        -0.39061557,  0.7335933 ,  0.24115009, -0.1958026 ,  0.89195298,\n",
       "         1.48023858, -1.37533409],\n",
       "       [-0.40409401,  1.3415012 ,  0.        , -2.09681714, -0.88676177,\n",
       "         0.23785008, -0.886722  , -0.10179235, -0.1958026 , -0.31590001,\n",
       "        -0.26279598,  0.74508137]])"
      ]
     },
     "execution_count": 40,
     "metadata": {},
     "output_type": "execute_result"
    }
   ],
   "source": [
    "X_train_std[0:5,:]"
   ]
  },
  {
   "cell_type": "code",
   "execution_count": 41,
   "metadata": {},
   "outputs": [
    {
     "data": {
      "text/plain": [
       "Int64Index([65, 25, 12, 51, 43, 60, 64, 16,  3, 52, 53, 46, 32,  4, 63, 56, 10,\n",
       "            62, 50, 47, 70, 35,  1,  7, 15,  9, 27, 42, 75, 22, 29, 13, 21, 74,\n",
       "            20, 45,  5, 66, 37, 11, 40, 54, 38,  0, 28, 48, 58,  2, 76, 23, 61,\n",
       "            39, 71, 72, 44, 24, 14, 67, 69,  6, 26, 19, 33, 59, 31],\n",
       "           dtype='int64')"
      ]
     },
     "execution_count": 41,
     "metadata": {},
     "output_type": "execute_result"
    }
   ],
   "source": [
    "X_train.index"
   ]
  },
  {
   "cell_type": "code",
   "execution_count": 42,
   "metadata": {},
   "outputs": [],
   "source": [
    "#Define hierarchical clustering\n",
    "Hclustering = AgglomerativeClustering(n_clusters=2,affinity='cosine', linkage='complete')"
   ]
  },
  {
   "cell_type": "code",
   "execution_count": 43,
   "metadata": {},
   "outputs": [
    {
     "data": {
      "text/plain": [
       "AgglomerativeClustering(affinity='cosine', compute_full_tree='auto',\n",
       "            connectivity=None, linkage='complete', memory=None,\n",
       "            n_clusters=2,\n",
       "            pooling_func=<function mean at 0x0000003A96845C80>)"
      ]
     },
     "execution_count": 43,
     "metadata": {},
     "output_type": "execute_result"
    }
   ],
   "source": [
    "## Fit on input data\n",
    "Hclustering.fit(X_train_std)\n"
   ]
  },
  {
   "cell_type": "code",
   "execution_count": 44,
   "metadata": {},
   "outputs": [
    {
     "data": {
      "text/plain": [
       "array([0, 0, 0, 1, 0, 0, 0, 0, 0, 1, 0, 1, 0, 1, 0, 0, 0, 0, 0, 0, 1, 0,\n",
       "       1, 1, 0, 0, 1, 0, 0, 1, 0, 1, 0, 0, 0, 1, 0, 0, 0, 0, 0, 0, 0, 0,\n",
       "       1, 0, 1, 0, 0, 0, 0, 1, 0, 0, 1, 0, 0, 0, 0, 0, 0, 1, 0, 1, 0],\n",
       "      dtype=int64)"
      ]
     },
     "execution_count": 44,
     "metadata": {},
     "output_type": "execute_result"
    }
   ],
   "source": [
    "Hclustering.labels_"
   ]
  },
  {
   "cell_type": "code",
   "execution_count": 45,
   "metadata": {},
   "outputs": [],
   "source": [
    "from scipy.cluster.hierarchy import dendrogram\n",
    "import matplotlib.pyplot as plt"
   ]
  },
  {
   "cell_type": "code",
   "execution_count": 46,
   "metadata": {},
   "outputs": [
    {
     "data": {
      "image/png": "[encoded data removed]",
      "text/plain": [
       "<matplotlib.figure.Figure at 0x3a965d7748>"
      ]
     },
     "metadata": {},
     "output_type": "display_data"
    }
   ],
   "source": [
    "from scipy.cluster.hierarchy import dendrogram, linkage\n",
    "\n",
    "linkage_matrix = linkage(X_train_std, 'complete')\n",
    "figure = plt.figure(figsize=(7.5, 5))\n",
    "dendrogram(\n",
    "    linkage_matrix,\n",
    "    color_threshold=0,\n",
    ")\n",
    "plt.title('Hierarchical Clustering Dendrogram (Ward)')\n",
    "plt.xlabel('sample index')\n",
    "plt.ylabel('distance')\n",
    "#plt.tight_layout()\n",
    "plt.show()"
   ]
  },
  {
   "cell_type": "code",
   "execution_count": 47,
   "metadata": {},
   "outputs": [
    {
     "data": {
      "image/png": "[encoded data removed]",
      "text/plain": [
       "<matplotlib.figure.Figure at 0x3a96724550>"
      ]
     },
     "metadata": {},
     "output_type": "display_data"
    }
   ],
   "source": [
    "figure = plt.figure(figsize=(7.5, 5))\n",
    "dendrogram(\n",
    "    linkage_matrix,\n",
    "    truncate_mode='lastp',  # show only the last p merged clusters\n",
    "    p=24,  # show only the last p merged clusters\n",
    "    )\n",
    "plt.title('Hierarchical Clustering Dendrogram (Ward, aggrogated)')\n",
    "plt.xlabel('sample index or (cluster size)')\n",
    "plt.ylabel('distance')\n",
    "plt.show()"
   ]
  },
  {
   "cell_type": "code",
   "execution_count": 48,
   "metadata": {},
   "outputs": [],
   "source": [
    "# Number of clusters\n",
    "kmeans = KMeans(n_clusters=2,random_state=148461)\n",
    "# Fitting the input data\n",
    "kmeans = kmeans.fit(X_train_std)\n",
    "# Getting the cluster labels\n",
    "labels = kmeans.predict(X_train_std)\n",
    "# Centroid values\n",
    "centroids = kmeans.cluster_centers_"
   ]
  },
  {
   "cell_type": "code",
   "execution_count": 49,
   "metadata": {},
   "outputs": [
    {
     "data": {
      "text/plain": [
       "KMeans(algorithm='auto', copy_x=True, init='k-means++', max_iter=300,\n",
       "    n_clusters=2, n_init=10, n_jobs=1, precompute_distances='auto',\n",
       "    random_state=148461, tol=0.0001, verbose=0)"
      ]
     },
     "execution_count": 49,
     "metadata": {},
     "output_type": "execute_result"
    }
   ],
   "source": [
    "kmeans"
   ]
  },
  {
   "cell_type": "code",
   "execution_count": 50,
   "metadata": {},
   "outputs": [
    {
     "data": {
      "text/plain": [
       "array([[-0.17197489, -0.31566707, -0.27694753,  0.0389704 , -0.42757516,\n",
       "         0.28169652, -0.20845048, -0.5301248 , -0.02314721, -0.42825843,\n",
       "        -0.37143162,  0.38214514],\n",
       "       [ 0.33613274,  0.61698564,  0.54130654, -0.07616942,  0.83571509,\n",
       "        -0.55058865,  0.40742593,  1.03615301,  0.04524227,  0.83705057,\n",
       "         0.72597999, -0.74692005]])"
      ]
     },
     "execution_count": 50,
     "metadata": {},
     "output_type": "execute_result"
    }
   ],
   "source": [
    "centroids"
   ]
  },
  {
   "cell_type": "code",
   "execution_count": 51,
   "metadata": {},
   "outputs": [
    {
     "data": {
      "text/plain": [
       "array([0, 0, 0, 1, 0, 0, 0, 0, 1, 1, 0, 1, 0, 0, 0, 1, 0, 0, 0, 0, 1, 0,\n",
       "       1, 1, 0, 1, 1, 0, 0, 1, 0, 1, 0, 0, 0, 1, 0, 0, 0, 0, 0, 0, 0, 1,\n",
       "       1, 0, 1, 1, 0, 0, 0, 1, 0, 0, 1, 0, 0, 0, 0, 0, 0, 1, 1, 1, 0])"
      ]
     },
     "execution_count": 51,
     "metadata": {},
     "output_type": "execute_result"
    }
   ],
   "source": [
    "labels"
   ]
  },
  {
   "cell_type": "code",
   "execution_count": 52,
   "metadata": {},
   "outputs": [],
   "source": [
    "# Getting the cluster labels for the test Data set\n",
    "labels_test = kmeans.predict(X_test_std)\n"
   ]
  },
  {
   "cell_type": "code",
   "execution_count": 53,
   "metadata": {},
   "outputs": [
    {
     "data": {
      "text/plain": [
       "array([1, 0, 1, 0, 0, 0, 1, 0, 0, 0, 0, 1])"
      ]
     },
     "execution_count": 53,
     "metadata": {},
     "output_type": "execute_result"
    }
   ],
   "source": [
    "labels_test"
   ]
  },
  {
   "cell_type": "code",
   "execution_count": 54,
   "metadata": {},
   "outputs": [
    {
     "name": "stdout",
     "output_type": "stream",
     "text": [
      "[[-0.17197489 -0.31566707 -0.27694753  0.0389704  -0.42757516  0.28169652\n",
      "  -0.20845048 -0.5301248  -0.02314721 -0.42825843 -0.37143162  0.38214514]\n",
      " [ 0.33613274  0.61698564  0.54130654 -0.07616942  0.83571509 -0.55058865\n",
      "   0.40742593  1.03615301  0.04524227  0.83705057  0.72597999 -0.74692005]]\n",
      "619.6642560974842\n"
     ]
    }
   ],
   "source": [
    "print(kmeans.cluster_centers_)\n",
    "print(kmeans.inertia_) #Total sum of squares for distance between each point and their corresponding cluster centroid"
   ]
  },
  {
   "cell_type": "code",
   "execution_count": 55,
   "metadata": {},
   "outputs": [],
   "source": [
    "wss= {}\n",
    "for k in range(1, 10):\n",
    "    kmeans = KMeans(n_clusters=k, max_iter=1000).fit(X_train_std)\n",
    "    clusters = kmeans.labels_\n",
    "    wss[k] = kmeans.inertia_ # Inertia: Sum of squared distances of samples to their closest cluster center\n"
   ]
  },
  {
   "cell_type": "code",
   "execution_count": 56,
   "metadata": {},
   "outputs": [
    {
     "data": {
      "text/plain": [
       "{1: 780.0,\n",
       " 2: 619.6642560974842,\n",
       " 3: 530.6792859572705,\n",
       " 4: 456.6739474239555,\n",
       " 5: 386.420794359359,\n",
       " 6: 332.8000379331932,\n",
       " 7: 291.14118686536966,\n",
       " 8: 257.09036882150167,\n",
       " 9: 234.07695082681295}"
      ]
     },
     "execution_count": 56,
     "metadata": {},
     "output_type": "execute_result"
    }
   ],
   "source": [
    "wss"
   ]
  },
  {
   "cell_type": "code",
   "execution_count": 57,
   "metadata": {},
   "outputs": [
    {
     "data": {
      "image/png": "[encoded data removed]",
      "text/plain": [
       "<matplotlib.figure.Figure at 0x3a9a1fd2b0>"
      ]
     },
     "metadata": {},
     "output_type": "display_data"
    }
   ],
   "source": [
    "plt.figure()\n",
    "plt.plot(list(wss.keys()), list(wss.values()))\n",
    "plt.xlabel(\"Number of cluster\")\n",
    "plt.ylabel(\"WSS\")\n",
    "plt.show()"
   ]
  },
  {
   "cell_type": "code",
   "execution_count": 58,
   "metadata": {},
   "outputs": [],
   "source": [
    "from sklearn.metrics import adjusted_rand_score\n",
    "import numpy as np"
   ]
  },
  {
   "cell_type": "code",
   "execution_count": 59,
   "metadata": {},
   "outputs": [],
   "source": [
    "X_train_std=pd.DataFrame(X_train_std)"
   ]
  },
  {
   "cell_type": "code",
   "execution_count": 60,
   "metadata": {},
   "outputs": [
    {
     "data": {
      "text/plain": [
       "(65, 12)"
      ]
     },
     "execution_count": 60,
     "metadata": {},
     "output_type": "execute_result"
    }
   ],
   "source": [
    "X_train_std.shape"
   ]
  },
  {
   "cell_type": "code",
   "execution_count": 61,
   "metadata": {},
   "outputs": [
    {
     "name": "stdout",
     "output_type": "stream",
     "text": [
      "Int64Index([22, 32, 33,  8,  6, 56, 40, 20,  4, 21, 50, 54, 29, 18, 45, 55, 36,\n",
      "            13, 25, 58, 64, 10,  7, 27, 14, 17, 46, 31, 35,  1, 42, 63,  2, 39,\n",
      "            48, 61,  0, 11,  3, 62, 34, 37, 60,  9, 16,  5, 28, 59, 44, 51, 43,\n",
      "            30, 26, 41, 23, 49, 15, 57],\n",
      "           dtype='int64')\n"
     ]
    }
   ],
   "source": [
    "indices=X_train_std.sample(frac=0.9,random_state=1234).index\n",
    "print(indices)"
   ]
  },
  {
   "cell_type": "code",
   "execution_count": 62,
   "metadata": {},
   "outputs": [],
   "source": [
    "Alpha=X_train_std.iloc[indices,:]"
   ]
  },
  {
   "cell_type": "code",
   "execution_count": 63,
   "metadata": {},
   "outputs": [
    {
     "data": {
      "text/plain": [
       "(58, 12)"
      ]
     },
     "execution_count": 63,
     "metadata": {},
     "output_type": "execute_result"
    }
   ],
   "source": [
    "Alpha.shape"
   ]
  },
  {
   "cell_type": "code",
   "execution_count": 64,
   "metadata": {},
   "outputs": [
    {
     "name": "stdout",
     "output_type": "stream",
     "text": [
      "65\n"
     ]
    }
   ],
   "source": [
    "kmeans = KMeans(n_clusters=2)\n",
    "kmeans1 = kmeans.fit(X_train_std)\n",
    "print(len(kmeans1.labels_))\n",
    "X_train_std['clus']=kmeans1.labels_"
   ]
  },
  {
   "cell_type": "code",
   "execution_count": 65,
   "metadata": {},
   "outputs": [
    {
     "name": "stdout",
     "output_type": "stream",
     "text": [
      "58\n"
     ]
    },
    {
     "name": "stderr",
     "output_type": "stream",
     "text": [
      "C:\\Users\\Hai\\Anaconda\\lib\\site-packages\\ipykernel_launcher.py:4: SettingWithCopyWarning: \n",
      "A value is trying to be set on a copy of a slice from a DataFrame.\n",
      "Try using .loc[row_indexer,col_indexer] = value instead\n",
      "\n",
      "See the caveats in the documentation: http://pandas.pydata.org/pandas-docs/stable/indexing.html#indexing-view-versus-copy\n",
      "  after removing the cwd from sys.path.\n"
     ]
    }
   ],
   "source": [
    "kmeans = KMeans(n_clusters=2)\n",
    "kmeans2=kmeans.fit(Alpha)\n",
    "print(len(kmeans2.labels_))\n",
    "Alpha['clus']=kmeans2.labels_"
   ]
  },
  {
   "cell_type": "code",
   "execution_count": 66,
   "metadata": {},
   "outputs": [
    {
     "data": {
      "text/plain": [
       "(58, 13)"
      ]
     },
     "execution_count": 66,
     "metadata": {},
     "output_type": "execute_result"
    }
   ],
   "source": [
    "Alpha.shape"
   ]
  },
  {
   "cell_type": "code",
   "execution_count": 67,
   "metadata": {},
   "outputs": [],
   "source": [
    "g1=X_train_std.loc[indices,'clus']\n",
    "g2=Alpha.clus\n",
    "\n",
    "#x=pd.DataFrame()\n",
    "#x.head(20)"
   ]
  },
  {
   "cell_type": "code",
   "execution_count": 68,
   "metadata": {},
   "outputs": [
    {
     "data": {
      "text/plain": [
       "1.0"
      ]
     },
     "execution_count": 68,
     "metadata": {},
     "output_type": "execute_result"
    }
   ],
   "source": [
    "adjusted_rand_score(g1,g2)"
   ]
  },
  {
   "cell_type": "code",
   "execution_count": null,
   "metadata": {},
   "outputs": [],
   "source": []
  }
 ],
 "metadata": {
  "kernelspec": {
   "display_name": "Python 3",
   "language": "python",
   "name": "python3"
  },
  "language_info": {
   "codemirror_mode": {
    "name": "ipython",
    "version": 3
   },
   "file_extension": ".py",
   "mimetype": "text/x-python",
   "name": "python",
   "nbconvert_exporter": "python",
   "pygments_lexer": "ipython3",
   "version": "3.6.4"
  }
 },
 "nbformat": 4,
 "nbformat_minor": 2
}
