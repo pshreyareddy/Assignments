{
 "cells": [
  {
   "cell_type": "markdown",
   "metadata": {},
   "source": [
    "### KMeans Clustering\n",
    "\n",
    "    "
   ]
  },
  {
   "cell_type": "markdown",
   "metadata": {},
   "source": [
    "#### Loadin the required libraries"
   ]
  },
  {
   "cell_type": "code",
   "execution_count": 1,
   "metadata": {
    "collapsed": true
   },
   "outputs": [],
   "source": [
    "import pandas as pd \n",
    "import numpy as np\n",
    "import matplotlib.pyplot as plt\n",
    "from sklearn.cluster import KMeans\n",
    "from sklearn.cluster import AgglomerativeClustering\n",
    "from sklearn.decomposition import PCA\n",
    "from sklearn.preprocessing import StandardScaler\n",
    "from sklearn.model_selection import train_test_split\n",
    "from sklearn.metrics import accuracy_score, recall_score,precision_score,confusion_matrix,mean_absolute_error,mean_squared_error\n",
    "%matplotlib inline"
   ]
  },
  {
   "cell_type": "code",
   "execution_count": null,
   "metadata": {
    "collapsed": true
   },
   "outputs": [],
   "source": [
    "import os\n",
    "os.chdir(\"\")"
   ]
  },
  {
   "cell_type": "markdown",
   "metadata": {},
   "source": [
    "#### We work with the diabetes data. Since it has a target, we drop the target and consider only the independent attributes for the clustering activity"
   ]
  },
  {
   "cell_type": "code",
   "execution_count": 2,
   "metadata": {},
   "outputs": [
    {
     "data": {
      "text/plain": [
       "0    500\n",
       "1    268\n",
       "Name: Target, dtype: int64"
      ]
     },
     "execution_count": 2,
     "metadata": {},
     "output_type": "execute_result"
    }
   ],
   "source": [
    "\n",
    "lables = [\"Number of times pregnant\",\n",
    "\"Plasma glucose concentration\",\n",
    "\"Diastolic blood pressure (mm Hg)\",\n",
    "\"Triceps skin fold thickness (mm)\",\n",
    "\"2-Hour serum insulin (mu U/ml)\",\n",
    "\"Body Mass Index\",\n",
    "\"Diabetes pedigree function\",\n",
    "\"Age (years)\",\n",
    "\"Target\"]\n",
    "diabetics = pd.read_csv(\"Diabetes_Data.csv\",names=lables)\n",
    "diabetics.head()\n",
    "diabetics.columns\n",
    "diabetics['Target'] = diabetics['Target'].astype(\"category\")\n",
    "diabetics['Target'].value_counts()"
   ]
  },
  {
   "cell_type": "code",
   "execution_count": 3,
   "metadata": {},
   "outputs": [
    {
     "data": {
      "text/html": [
       "<div>\n",
       "<style>\n",
       "    .dataframe thead tr:only-child th {\n",
       "        text-align: right;\n",
       "    }\n",
       "\n",
       "    .dataframe thead th {\n",
       "        text-align: left;\n",
       "    }\n",
       "\n",
       "    .dataframe tbody tr th {\n",
       "        vertical-align: top;\n",
       "    }\n",
       "</style>\n",
       "<table border=\"1\" class=\"dataframe\">\n",
       "  <thead>\n",
       "    <tr style=\"text-align: right;\">\n",
       "      <th></th>\n",
       "      <th>Number of times pregnant</th>\n",
       "      <th>Plasma glucose concentration</th>\n",
       "      <th>Diastolic blood pressure (mm Hg)</th>\n",
       "      <th>Triceps skin fold thickness (mm)</th>\n",
       "      <th>2-Hour serum insulin (mu U/ml)</th>\n",
       "      <th>Body Mass Index</th>\n",
       "      <th>Diabetes pedigree function</th>\n",
       "      <th>Age (years)</th>\n",
       "      <th>Target</th>\n",
       "    </tr>\n",
       "  </thead>\n",
       "  <tbody>\n",
       "    <tr>\n",
       "      <th>0</th>\n",
       "      <td>6</td>\n",
       "      <td>148</td>\n",
       "      <td>72</td>\n",
       "      <td>35</td>\n",
       "      <td>0</td>\n",
       "      <td>33.6</td>\n",
       "      <td>0.627</td>\n",
       "      <td>50</td>\n",
       "      <td>1</td>\n",
       "    </tr>\n",
       "    <tr>\n",
       "      <th>1</th>\n",
       "      <td>1</td>\n",
       "      <td>85</td>\n",
       "      <td>66</td>\n",
       "      <td>29</td>\n",
       "      <td>0</td>\n",
       "      <td>26.6</td>\n",
       "      <td>0.351</td>\n",
       "      <td>31</td>\n",
       "      <td>0</td>\n",
       "    </tr>\n",
       "    <tr>\n",
       "      <th>2</th>\n",
       "      <td>8</td>\n",
       "      <td>183</td>\n",
       "      <td>64</td>\n",
       "      <td>0</td>\n",
       "      <td>0</td>\n",
       "      <td>23.3</td>\n",
       "      <td>0.672</td>\n",
       "      <td>32</td>\n",
       "      <td>1</td>\n",
       "    </tr>\n",
       "    <tr>\n",
       "      <th>3</th>\n",
       "      <td>1</td>\n",
       "      <td>89</td>\n",
       "      <td>66</td>\n",
       "      <td>23</td>\n",
       "      <td>94</td>\n",
       "      <td>28.1</td>\n",
       "      <td>0.167</td>\n",
       "      <td>21</td>\n",
       "      <td>0</td>\n",
       "    </tr>\n",
       "    <tr>\n",
       "      <th>4</th>\n",
       "      <td>0</td>\n",
       "      <td>137</td>\n",
       "      <td>40</td>\n",
       "      <td>35</td>\n",
       "      <td>168</td>\n",
       "      <td>43.1</td>\n",
       "      <td>2.288</td>\n",
       "      <td>33</td>\n",
       "      <td>1</td>\n",
       "    </tr>\n",
       "  </tbody>\n",
       "</table>\n",
       "</div>"
      ],
      "text/plain": [
       "   Number of times pregnant  Plasma glucose concentration  \\\n",
       "0                         6                           148   \n",
       "1                         1                            85   \n",
       "2                         8                           183   \n",
       "3                         1                            89   \n",
       "4                         0                           137   \n",
       "\n",
       "   Diastolic blood pressure (mm Hg)  Triceps skin fold thickness (mm)  \\\n",
       "0                                72                                35   \n",
       "1                                66                                29   \n",
       "2                                64                                 0   \n",
       "3                                66                                23   \n",
       "4                                40                                35   \n",
       "\n",
       "   2-Hour serum insulin (mu U/ml)  Body Mass Index  \\\n",
       "0                               0             33.6   \n",
       "1                               0             26.6   \n",
       "2                               0             23.3   \n",
       "3                              94             28.1   \n",
       "4                             168             43.1   \n",
       "\n",
       "   Diabetes pedigree function  Age (years) Target  \n",
       "0                       0.627           50      1  \n",
       "1                       0.351           31      0  \n",
       "2                       0.672           32      1  \n",
       "3                       0.167           21      0  \n",
       "4                       2.288           33      1  "
      ]
     },
     "execution_count": 3,
     "metadata": {},
     "output_type": "execute_result"
    }
   ],
   "source": [
    "diabetics.head(5)"
   ]
  },
  {
   "cell_type": "code",
   "execution_count": 4,
   "metadata": {
    "collapsed": true
   },
   "outputs": [],
   "source": [
    "numeric_vars = diabetics.drop(['Target'],axis=1)"
   ]
  },
  {
   "cell_type": "code",
   "execution_count": 5,
   "metadata": {},
   "outputs": [
    {
     "data": {
      "text/html": [
       "<div>\n",
       "<style>\n",
       "    .dataframe thead tr:only-child th {\n",
       "        text-align: right;\n",
       "    }\n",
       "\n",
       "    .dataframe thead th {\n",
       "        text-align: left;\n",
       "    }\n",
       "\n",
       "    .dataframe tbody tr th {\n",
       "        vertical-align: top;\n",
       "    }\n",
       "</style>\n",
       "<table border=\"1\" class=\"dataframe\">\n",
       "  <thead>\n",
       "    <tr style=\"text-align: right;\">\n",
       "      <th></th>\n",
       "      <th>Number of times pregnant</th>\n",
       "      <th>Plasma glucose concentration</th>\n",
       "      <th>Diastolic blood pressure (mm Hg)</th>\n",
       "      <th>Triceps skin fold thickness (mm)</th>\n",
       "      <th>2-Hour serum insulin (mu U/ml)</th>\n",
       "      <th>Body Mass Index</th>\n",
       "      <th>Diabetes pedigree function</th>\n",
       "      <th>Age (years)</th>\n",
       "    </tr>\n",
       "  </thead>\n",
       "  <tbody>\n",
       "    <tr>\n",
       "      <th>0</th>\n",
       "      <td>6</td>\n",
       "      <td>148</td>\n",
       "      <td>72</td>\n",
       "      <td>35</td>\n",
       "      <td>0</td>\n",
       "      <td>33.6</td>\n",
       "      <td>0.627</td>\n",
       "      <td>50</td>\n",
       "    </tr>\n",
       "    <tr>\n",
       "      <th>1</th>\n",
       "      <td>1</td>\n",
       "      <td>85</td>\n",
       "      <td>66</td>\n",
       "      <td>29</td>\n",
       "      <td>0</td>\n",
       "      <td>26.6</td>\n",
       "      <td>0.351</td>\n",
       "      <td>31</td>\n",
       "    </tr>\n",
       "    <tr>\n",
       "      <th>2</th>\n",
       "      <td>8</td>\n",
       "      <td>183</td>\n",
       "      <td>64</td>\n",
       "      <td>0</td>\n",
       "      <td>0</td>\n",
       "      <td>23.3</td>\n",
       "      <td>0.672</td>\n",
       "      <td>32</td>\n",
       "    </tr>\n",
       "    <tr>\n",
       "      <th>3</th>\n",
       "      <td>1</td>\n",
       "      <td>89</td>\n",
       "      <td>66</td>\n",
       "      <td>23</td>\n",
       "      <td>94</td>\n",
       "      <td>28.1</td>\n",
       "      <td>0.167</td>\n",
       "      <td>21</td>\n",
       "    </tr>\n",
       "    <tr>\n",
       "      <th>4</th>\n",
       "      <td>0</td>\n",
       "      <td>137</td>\n",
       "      <td>40</td>\n",
       "      <td>35</td>\n",
       "      <td>168</td>\n",
       "      <td>43.1</td>\n",
       "      <td>2.288</td>\n",
       "      <td>33</td>\n",
       "    </tr>\n",
       "  </tbody>\n",
       "</table>\n",
       "</div>"
      ],
      "text/plain": [
       "   Number of times pregnant  Plasma glucose concentration  \\\n",
       "0                         6                           148   \n",
       "1                         1                            85   \n",
       "2                         8                           183   \n",
       "3                         1                            89   \n",
       "4                         0                           137   \n",
       "\n",
       "   Diastolic blood pressure (mm Hg)  Triceps skin fold thickness (mm)  \\\n",
       "0                                72                                35   \n",
       "1                                66                                29   \n",
       "2                                64                                 0   \n",
       "3                                66                                23   \n",
       "4                                40                                35   \n",
       "\n",
       "   2-Hour serum insulin (mu U/ml)  Body Mass Index  \\\n",
       "0                               0             33.6   \n",
       "1                               0             26.6   \n",
       "2                               0             23.3   \n",
       "3                              94             28.1   \n",
       "4                             168             43.1   \n",
       "\n",
       "   Diabetes pedigree function  Age (years)  \n",
       "0                       0.627           50  \n",
       "1                       0.351           31  \n",
       "2                       0.672           32  \n",
       "3                       0.167           21  \n",
       "4                       2.288           33  "
      ]
     },
     "execution_count": 5,
     "metadata": {},
     "output_type": "execute_result"
    }
   ],
   "source": [
    "numeric_vars.head(5)"
   ]
  },
  {
   "cell_type": "code",
   "execution_count": 6,
   "metadata": {
    "collapsed": true
   },
   "outputs": [],
   "source": [
    "# Divide  data in to train and test\n",
    "  \n",
    "X_train, X_test= train_test_split(numeric_vars, test_size=0.150) "
   ]
  },
  {
   "cell_type": "code",
   "execution_count": 7,
   "metadata": {},
   "outputs": [
    {
     "name": "stdout",
     "output_type": "stream",
     "text": [
      "(652, 8)\n",
      "(116, 8)\n"
     ]
    }
   ],
   "source": [
    "print(X_train.shape)\n",
    "print(X_test.shape)"
   ]
  },
  {
   "cell_type": "markdown",
   "metadata": {},
   "source": [
    "#### As mentioned during the preprocessing session, for any distance based algo, we need to standardize the data to bring all attributes to the same scale"
   ]
  },
  {
   "cell_type": "code",
   "execution_count": 8,
   "metadata": {
    "collapsed": true
   },
   "outputs": [],
   "source": [
    "std = StandardScaler()\n",
    "std.fit(X_train)\n",
    "X_train_std= std.transform(X_train)\n",
    "X_test_std= std.transform(X_test)"
   ]
  },
  {
   "cell_type": "code",
   "execution_count": 9,
   "metadata": {},
   "outputs": [
    {
     "data": {
      "text/plain": [
       "array([[-0.26865311,  1.12804711,  0.04273224,  0.57166836,  2.03725253,\n",
       "         0.44783105, -0.39550364,  0.15693037],\n",
       "       [-0.26865311, -0.27122158, -1.01062953, -0.66889669,  0.01296832,\n",
       "        -0.32742121,  0.43737783, -0.71238656],\n",
       "       [ 0.60861816,  1.25242655, -0.37861247, -1.28917922, -0.69511464,\n",
       "        -0.99930651, -0.88578139,  1.46090576],\n",
       "       [-0.26865311,  1.50118543, -0.27327629,  1.00586613,  1.1792226 ,\n",
       "         0.31862234, -0.36006188, -0.27772809],\n",
       "       [ 0.90104192, -0.24012672,  0.35874077, -0.23469892,  0.22122801,\n",
       "        -1.06391086, -0.03517903, -0.1907964 ]])"
      ]
     },
     "execution_count": 9,
     "metadata": {},
     "output_type": "execute_result"
    }
   ],
   "source": [
    "X_train_std[0:5,:]"
   ]
  },
  {
   "cell_type": "code",
   "execution_count": 28,
   "metadata": {
    "collapsed": true
   },
   "outputs": [],
   "source": [
    "X_train.index\n",
    "\n"
   ]
  },
  {
   "cell_type": "markdown",
   "metadata": {},
   "source": [
    "# Hierarchical Clustering"
   ]
  },
  {
   "cell_type": "code",
   "execution_count": 29,
   "metadata": {
    "collapsed": true
   },
   "outputs": [],
   "source": [
    "#Define hierarchical clustering\n",
    "Hclustering = AgglomerativeClustering(n_clusters=2,affinity='cosine', linkage='complete')"
   ]
  },
  {
   "cell_type": "code",
   "execution_count": 30,
   "metadata": {},
   "outputs": [
    {
     "data": {
      "text/plain": [
       "AgglomerativeClustering(affinity='cosine', compute_full_tree='auto',\n",
       "            connectivity=None, linkage='complete', memory=None,\n",
       "            n_clusters=2, pooling_func=<function mean at 0x7ff80c0ed1e0>)"
      ]
     },
     "execution_count": 30,
     "metadata": {},
     "output_type": "execute_result"
    }
   ],
   "source": [
    "## Fit on input data\n",
    "Hclustering.fit(X_train_std)\n"
   ]
  },
  {
   "cell_type": "code",
   "execution_count": 31,
   "metadata": {},
   "outputs": [
    {
     "data": {
      "text/plain": [
       "{0: 1,\n",
       " 1: 0,\n",
       " 2: 0,\n",
       " 3: 1,\n",
       " 4: 0,\n",
       " 5: 1,\n",
       " 6: 0,\n",
       " 7: 0,\n",
       " 8: 0,\n",
       " 9: 0,\n",
       " 10: 1,\n",
       " 11: 0,\n",
       " 12: 0,\n",
       " 13: 1,\n",
       " 14: 0,\n",
       " 15: 0,\n",
       " 16: 0,\n",
       " 17: 0,\n",
       " 18: 0,\n",
       " 19: 1,\n",
       " 20: 0,\n",
       " 21: 0,\n",
       " 22: 0,\n",
       " 23: 0,\n",
       " 24: 0,\n",
       " 25: 1,\n",
       " 26: 0,\n",
       " 27: 1,\n",
       " 28: 0,\n",
       " 29: 0,\n",
       " 30: 0,\n",
       " 31: 1,\n",
       " 32: 0,\n",
       " 33: 0,\n",
       " 34: 0,\n",
       " 35: 1,\n",
       " 36: 0,\n",
       " 37: 0,\n",
       " 38: 1,\n",
       " 39: 0,\n",
       " 40: 0,\n",
       " 41: 0,\n",
       " 42: 0,\n",
       " 43: 1,\n",
       " 44: 0,\n",
       " 45: 0,\n",
       " 46: 1,\n",
       " 47: 0,\n",
       " 48: 0,\n",
       " 49: 0,\n",
       " 50: 0,\n",
       " 51: 1,\n",
       " 52: 1,\n",
       " 53: 1,\n",
       " 54: 1,\n",
       " 55: 0,\n",
       " 56: 0,\n",
       " 57: 0,\n",
       " 58: 0,\n",
       " 59: 0,\n",
       " 60: 1,\n",
       " 61: 1,\n",
       " 62: 0,\n",
       " 63: 1,\n",
       " 64: 0,\n",
       " 65: 1,\n",
       " 66: 0,\n",
       " 67: 1,\n",
       " 68: 0,\n",
       " 69: 1,\n",
       " 70: 1,\n",
       " 71: 0,\n",
       " 72: 0,\n",
       " 73: 0,\n",
       " 74: 0,\n",
       " 75: 0,\n",
       " 76: 0,\n",
       " 77: 1,\n",
       " 78: 0,\n",
       " 79: 1,\n",
       " 80: 0,\n",
       " 81: 0,\n",
       " 82: 1,\n",
       " 83: 1,\n",
       " 84: 0,\n",
       " 85: 1,\n",
       " 86: 1,\n",
       " 87: 0,\n",
       " 88: 1,\n",
       " 89: 0,\n",
       " 90: 0,\n",
       " 91: 0,\n",
       " 92: 0,\n",
       " 93: 0,\n",
       " 94: 0,\n",
       " 95: 0,\n",
       " 96: 0,\n",
       " 97: 0,\n",
       " 98: 1,\n",
       " 99: 1,\n",
       " 100: 0,\n",
       " 101: 0,\n",
       " 102: 0,\n",
       " 103: 0,\n",
       " 104: 0,\n",
       " 105: 1,\n",
       " 106: 0,\n",
       " 107: 0,\n",
       " 108: 1,\n",
       " 109: 0,\n",
       " 110: 1,\n",
       " 111: 0,\n",
       " 112: 0,\n",
       " 113: 0,\n",
       " 114: 0,\n",
       " 115: 0,\n",
       " 116: 0,\n",
       " 117: 0,\n",
       " 118: 0,\n",
       " 119: 0,\n",
       " 120: 0,\n",
       " 121: 1,\n",
       " 122: 1,\n",
       " 123: 1,\n",
       " 124: 1,\n",
       " 125: 0,\n",
       " 126: 0,\n",
       " 127: 0,\n",
       " 128: 0,\n",
       " 129: 0,\n",
       " 130: 0,\n",
       " 131: 0,\n",
       " 132: 0,\n",
       " 133: 1,\n",
       " 134: 0,\n",
       " 135: 0,\n",
       " 136: 1,\n",
       " 137: 1,\n",
       " 138: 0,\n",
       " 139: 0,\n",
       " 140: 1,\n",
       " 141: 1,\n",
       " 142: 1,\n",
       " 143: 1,\n",
       " 144: 1,\n",
       " 145: 0,\n",
       " 146: 1,\n",
       " 147: 0,\n",
       " 148: 0,\n",
       " 149: 0,\n",
       " 150: 0,\n",
       " 151: 0,\n",
       " 152: 0,\n",
       " 153: 1,\n",
       " 154: 0,\n",
       " 155: 1,\n",
       " 156: 0,\n",
       " 157: 1,\n",
       " 158: 1,\n",
       " 159: 0,\n",
       " 160: 0,\n",
       " 161: 1,\n",
       " 162: 1,\n",
       " 163: 0,\n",
       " 164: 0,\n",
       " 165: 1,\n",
       " 166: 0,\n",
       " 167: 0,\n",
       " 168: 1,\n",
       " 169: 0,\n",
       " 170: 0,\n",
       " 171: 1,\n",
       " 172: 0,\n",
       " 173: 0,\n",
       " 174: 1,\n",
       " 175: 0,\n",
       " 176: 1,\n",
       " 177: 0,\n",
       " 178: 1,\n",
       " 179: 0,\n",
       " 180: 1,\n",
       " 181: 0,\n",
       " 182: 0,\n",
       " 183: 0,\n",
       " 184: 0,\n",
       " 185: 0,\n",
       " 186: 1,\n",
       " 187: 0,\n",
       " 188: 0,\n",
       " 189: 0,\n",
       " 190: 1,\n",
       " 191: 0,\n",
       " 192: 0,\n",
       " 193: 0,\n",
       " 194: 1,\n",
       " 195: 1,\n",
       " 196: 0,\n",
       " 197: 0,\n",
       " 198: 1,\n",
       " 199: 1,\n",
       " 200: 0,\n",
       " 201: 1,\n",
       " 202: 1,\n",
       " 203: 1,\n",
       " 204: 1,\n",
       " 205: 1,\n",
       " 206: 0,\n",
       " 207: 0,\n",
       " 208: 1,\n",
       " 209: 0,\n",
       " 210: 0,\n",
       " 211: 1,\n",
       " 212: 0,\n",
       " 213: 1,\n",
       " 214: 0,\n",
       " 215: 0,\n",
       " 216: 0,\n",
       " 217: 0,\n",
       " 218: 1,\n",
       " 219: 1,\n",
       " 220: 0,\n",
       " 221: 1,\n",
       " 222: 1,\n",
       " 223: 1,\n",
       " 224: 1,\n",
       " 225: 1,\n",
       " 226: 1,\n",
       " 227: 0,\n",
       " 228: 1,\n",
       " 229: 1,\n",
       " 230: 0,\n",
       " 231: 0,\n",
       " 232: 1,\n",
       " 233: 0,\n",
       " 234: 0,\n",
       " 235: 1,\n",
       " 236: 0,\n",
       " 237: 0,\n",
       " 238: 1,\n",
       " 239: 0,\n",
       " 240: 1,\n",
       " 241: 1,\n",
       " 242: 1,\n",
       " 243: 0,\n",
       " 244: 0,\n",
       " 245: 0,\n",
       " 246: 0,\n",
       " 247: 1,\n",
       " 248: 1,\n",
       " 249: 1,\n",
       " 250: 0,\n",
       " 251: 1,\n",
       " 252: 1,\n",
       " 253: 0,\n",
       " 254: 0,\n",
       " 255: 0,\n",
       " 256: 0,\n",
       " 257: 0,\n",
       " 258: 1,\n",
       " 259: 0,\n",
       " 260: 1,\n",
       " 261: 1,\n",
       " 262: 0,\n",
       " 263: 0,\n",
       " 264: 0,\n",
       " 265: 0,\n",
       " 266: 1,\n",
       " 267: 0,\n",
       " 268: 0,\n",
       " 269: 0,\n",
       " 270: 1,\n",
       " 271: 0,\n",
       " 272: 0,\n",
       " 273: 0,\n",
       " 274: 0,\n",
       " 275: 0,\n",
       " 276: 0,\n",
       " 277: 0,\n",
       " 278: 0,\n",
       " 279: 0,\n",
       " 280: 0,\n",
       " 281: 1,\n",
       " 282: 1,\n",
       " 283: 0,\n",
       " 284: 0,\n",
       " 285: 0,\n",
       " 286: 0,\n",
       " 287: 0,\n",
       " 288: 0,\n",
       " 289: 1,\n",
       " 290: 0,\n",
       " 291: 0,\n",
       " 292: 1,\n",
       " 293: 0,\n",
       " 294: 0,\n",
       " 295: 1,\n",
       " 296: 1,\n",
       " 297: 0,\n",
       " 298: 0,\n",
       " 299: 0,\n",
       " 300: 0,\n",
       " 301: 1,\n",
       " 302: 0,\n",
       " 303: 1,\n",
       " 304: 1,\n",
       " 305: 0,\n",
       " 306: 0,\n",
       " 307: 1,\n",
       " 308: 0,\n",
       " 309: 1,\n",
       " 310: 0,\n",
       " 311: 0,\n",
       " 312: 0,\n",
       " 313: 0,\n",
       " 314: 1,\n",
       " 315: 1,\n",
       " 316: 1,\n",
       " 317: 0,\n",
       " 318: 0,\n",
       " 319: 0,\n",
       " 320: 0,\n",
       " 321: 1,\n",
       " 322: 1,\n",
       " 323: 0,\n",
       " 324: 1,\n",
       " 325: 0,\n",
       " 326: 0,\n",
       " 327: 0,\n",
       " 328: 1,\n",
       " 329: 0,\n",
       " 330: 0,\n",
       " 331: 0,\n",
       " 332: 1,\n",
       " 333: 0,\n",
       " 334: 0,\n",
       " 335: 1,\n",
       " 336: 0,\n",
       " 337: 1,\n",
       " 338: 1,\n",
       " 339: 0,\n",
       " 340: 0,\n",
       " 341: 0,\n",
       " 342: 1,\n",
       " 343: 0,\n",
       " 344: 0,\n",
       " 345: 0,\n",
       " 346: 0,\n",
       " 347: 0,\n",
       " 348: 0,\n",
       " 349: 1,\n",
       " 350: 0,\n",
       " 351: 0,\n",
       " 352: 0,\n",
       " 353: 0,\n",
       " 354: 0,\n",
       " 355: 0,\n",
       " 356: 0,\n",
       " 357: 0,\n",
       " 358: 0,\n",
       " 359: 0,\n",
       " 360: 0,\n",
       " 361: 0,\n",
       " 362: 1,\n",
       " 363: 0,\n",
       " 364: 1,\n",
       " 365: 0,\n",
       " 366: 1,\n",
       " 367: 0,\n",
       " 368: 0,\n",
       " 369: 1,\n",
       " 370: 0,\n",
       " 371: 0,\n",
       " 372: 1,\n",
       " 373: 0,\n",
       " 374: 0,\n",
       " 375: 0,\n",
       " 376: 0,\n",
       " 377: 0,\n",
       " 378: 1,\n",
       " 379: 0,\n",
       " 380: 1,\n",
       " 381: 1,\n",
       " 382: 0,\n",
       " 383: 0,\n",
       " 384: 0,\n",
       " 385: 0,\n",
       " 386: 0,\n",
       " 387: 1,\n",
       " 388: 1,\n",
       " 389: 1,\n",
       " 390: 0,\n",
       " 391: 0,\n",
       " 392: 1,\n",
       " 393: 0,\n",
       " 394: 1,\n",
       " 395: 0,\n",
       " 396: 0,\n",
       " 397: 0,\n",
       " 398: 1,\n",
       " 399: 1,\n",
       " 400: 0,\n",
       " 401: 1,\n",
       " 402: 1,\n",
       " 403: 0,\n",
       " 404: 0,\n",
       " 405: 0,\n",
       " 406: 0,\n",
       " 407: 1,\n",
       " 408: 0,\n",
       " 409: 0,\n",
       " 410: 0,\n",
       " 411: 1,\n",
       " 412: 0,\n",
       " 413: 0,\n",
       " 414: 0,\n",
       " 415: 0,\n",
       " 416: 0,\n",
       " 417: 0,\n",
       " 418: 1,\n",
       " 419: 0,\n",
       " 420: 0,\n",
       " 421: 1,\n",
       " 422: 0,\n",
       " 423: 0,\n",
       " 424: 0,\n",
       " 425: 0,\n",
       " 426: 0,\n",
       " 427: 0,\n",
       " 428: 0,\n",
       " 429: 0,\n",
       " 430: 0,\n",
       " 431: 1,\n",
       " 432: 0,\n",
       " 433: 1,\n",
       " 434: 1,\n",
       " 435: 1,\n",
       " 436: 1,\n",
       " 437: 0,\n",
       " 438: 1,\n",
       " 439: 0,\n",
       " 440: 1,\n",
       " 441: 0,\n",
       " 442: 0,\n",
       " 443: 0,\n",
       " 444: 1,\n",
       " 445: 1,\n",
       " 446: 1,\n",
       " 447: 0,\n",
       " 448: 0,\n",
       " 449: 0,\n",
       " 450: 0,\n",
       " 451: 0,\n",
       " 452: 0,\n",
       " 453: 0,\n",
       " 454: 1,\n",
       " 455: 1,\n",
       " 456: 1,\n",
       " 457: 1,\n",
       " 458: 0,\n",
       " 459: 0,\n",
       " 460: 0,\n",
       " 461: 1,\n",
       " 462: 0,\n",
       " 463: 0,\n",
       " 464: 0,\n",
       " 465: 1,\n",
       " 466: 1,\n",
       " 467: 0,\n",
       " 468: 0,\n",
       " 469: 1,\n",
       " 470: 1,\n",
       " 471: 0,\n",
       " 472: 1,\n",
       " 473: 1,\n",
       " 474: 0,\n",
       " 475: 0,\n",
       " 476: 0,\n",
       " 477: 0,\n",
       " 478: 0,\n",
       " 479: 1,\n",
       " 480: 0,\n",
       " 481: 0,\n",
       " 482: 0,\n",
       " 483: 0,\n",
       " 484: 0,\n",
       " 485: 0,\n",
       " 486: 0,\n",
       " 487: 0,\n",
       " 488: 1,\n",
       " 489: 0,\n",
       " 490: 0,\n",
       " 491: 0,\n",
       " 492: 0,\n",
       " 493: 0,\n",
       " 494: 1,\n",
       " 495: 0,\n",
       " 496: 0,\n",
       " 497: 0,\n",
       " 498: 1,\n",
       " 499: 0,\n",
       " 500: 0,\n",
       " 501: 0,\n",
       " 502: 1,\n",
       " 503: 1,\n",
       " 504: 1,\n",
       " 505: 0,\n",
       " 506: 0,\n",
       " 507: 1,\n",
       " 508: 0,\n",
       " 509: 0,\n",
       " 510: 1,\n",
       " 511: 0,\n",
       " 512: 0,\n",
       " 513: 0,\n",
       " 514: 1,\n",
       " 515: 0,\n",
       " 516: 0,\n",
       " 517: 0,\n",
       " 518: 0,\n",
       " 519: 0,\n",
       " 520: 0,\n",
       " 521: 1,\n",
       " 522: 1,\n",
       " 523: 0,\n",
       " 524: 1,\n",
       " 525: 0,\n",
       " 526: 1,\n",
       " 527: 1,\n",
       " 528: 1,\n",
       " 529: 0,\n",
       " 530: 0,\n",
       " 531: 0,\n",
       " 532: 0,\n",
       " 533: 0,\n",
       " 534: 1,\n",
       " 535: 0,\n",
       " 536: 1,\n",
       " 537: 0,\n",
       " 538: 1,\n",
       " 539: 0,\n",
       " 540: 1,\n",
       " 541: 0,\n",
       " 542: 1,\n",
       " 543: 0,\n",
       " 544: 0,\n",
       " 545: 0,\n",
       " 546: 0,\n",
       " 547: 0,\n",
       " 548: 0,\n",
       " 549: 0,\n",
       " 550: 1,\n",
       " 551: 1,\n",
       " 552: 0,\n",
       " 553: 0,\n",
       " 554: 1,\n",
       " 555: 0,\n",
       " 556: 1,\n",
       " 557: 0,\n",
       " 558: 0,\n",
       " 559: 0,\n",
       " 560: 0,\n",
       " 561: 0,\n",
       " 562: 1,\n",
       " 563: 0,\n",
       " 564: 1,\n",
       " 565: 1,\n",
       " 566: 0,\n",
       " 567: 1,\n",
       " 568: 1,\n",
       " 569: 1,\n",
       " 570: 0,\n",
       " 571: 0,\n",
       " 572: 0,\n",
       " 573: 0,\n",
       " 574: 0,\n",
       " 575: 1,\n",
       " 576: 0,\n",
       " 577: 0,\n",
       " 578: 0,\n",
       " 579: 1,\n",
       " 580: 0,\n",
       " 581: 0,\n",
       " 582: 0,\n",
       " 583: 0,\n",
       " 584: 1,\n",
       " 585: 0,\n",
       " 586: 1,\n",
       " 587: 1,\n",
       " 588: 0,\n",
       " 589: 1,\n",
       " 590: 0,\n",
       " 591: 0,\n",
       " 592: 1,\n",
       " 593: 0,\n",
       " 594: 1,\n",
       " 595: 0,\n",
       " 596: 1,\n",
       " 597: 0,\n",
       " 598: 0,\n",
       " 599: 0,\n",
       " 600: 0,\n",
       " 601: 0,\n",
       " 602: 1,\n",
       " 603: 1,\n",
       " 604: 0,\n",
       " 605: 1,\n",
       " 606: 1,\n",
       " 607: 0,\n",
       " 608: 1,\n",
       " 609: 0,\n",
       " 610: 1,\n",
       " 611: 0,\n",
       " 612: 1,\n",
       " 613: 0,\n",
       " 614: 1,\n",
       " 615: 0,\n",
       " 616: 0,\n",
       " 617: 0,\n",
       " 618: 0,\n",
       " 619: 0,\n",
       " 620: 0,\n",
       " 621: 0,\n",
       " 622: 1,\n",
       " 623: 0,\n",
       " 624: 0,\n",
       " 625: 1,\n",
       " 626: 0,\n",
       " 627: 0,\n",
       " 628: 0,\n",
       " 629: 0,\n",
       " 630: 1,\n",
       " 631: 0,\n",
       " 632: 0,\n",
       " 633: 1,\n",
       " 634: 1,\n",
       " 635: 0,\n",
       " 636: 0,\n",
       " 637: 0,\n",
       " 638: 0,\n",
       " 639: 1,\n",
       " 640: 0,\n",
       " 641: 0,\n",
       " 642: 1,\n",
       " 643: 0,\n",
       " 644: 0,\n",
       " 645: 0,\n",
       " 646: 0,\n",
       " 647: 1,\n",
       " 648: 1,\n",
       " 649: 1,\n",
       " 650: 1,\n",
       " 651: 0}"
      ]
     },
     "execution_count": 31,
     "metadata": {},
     "output_type": "execute_result"
    }
   ],
   "source": [
    "Hclustering.labels_"
   ]
  },
  {
   "cell_type": "code",
   "execution_count": 32,
   "metadata": {
    "collapsed": true
   },
   "outputs": [],
   "source": [
    "from scipy.cluster.hierarchy import dendrogram\n",
    "import matplotlib.pyplot as plt"
   ]
  },
  {
   "cell_type": "code",
   "execution_count": 33,
   "metadata": {},
   "outputs": [
    {
     "data": {
      "image/png": "[encoded data removed]",
      "text/plain": [
       "<matplotlib.figure.Figure at 0x7ff7d1514080>"
      ]
     },
     "metadata": {},
     "output_type": "display_data"
    }
   ],
   "source": [
    "from scipy.cluster.hierarchy import dendrogram, linkage\n",
    "\n",
    "linkage_matrix = linkage(X_train_std, 'complete')\n",
    "figure = plt.figure(figsize=(7.5, 5))\n",
    "dendrogram(\n",
    "    linkage_matrix,\n",
    "    color_threshold=0,\n",
    ")\n",
    "plt.title('Hierarchical Clustering Dendrogram (Ward)')\n",
    "plt.xlabel('sample index')\n",
    "plt.ylabel('distance')\n",
    "#plt.tight_layout()\n",
    "plt.show()"
   ]
  },
  {
   "cell_type": "code",
   "execution_count": 34,
   "metadata": {},
   "outputs": [
    {
     "data": {
      "image/png": "[encoded data removed]",
      "text/plain": [
       "<matplotlib.figure.Figure at 0x7ff7d84c20b8>"
      ]
     },
     "metadata": {},
     "output_type": "display_data"
    }
   ],
   "source": [
    "figure = plt.figure(figsize=(7.5, 5))\n",
    "dendrogram(\n",
    "    linkage_matrix,\n",
    "    truncate_mode='lastp',  # show only the last p merged clusters\n",
    "    p=24,  # show only the last p merged clusters\n",
    "    )\n",
    "plt.title('Hierarchical Clustering Dendrogram (Ward, aggrogated)')\n",
    "plt.xlabel('sample index or (cluster size)')\n",
    "plt.ylabel('distance')\n",
    "plt.show()"
   ]
  },
  {
   "cell_type": "markdown",
   "metadata": {},
   "source": [
    "# KMeans clustering"
   ]
  },
  {
   "cell_type": "code",
   "execution_count": 35,
   "metadata": {
    "collapsed": true
   },
   "outputs": [],
   "source": [
    "# Number of clusters\n",
    "kmeans = KMeans(n_clusters=2,random_state=148461)\n",
    "# Fitting the input data\n",
    "kmeans = kmeans.fit(X_train_std)\n",
    "# Getting the cluster labels\n",
    "labels = kmeans.predict(X_train_std)\n",
    "# Centroid values\n",
    "centroids = kmeans.cluster_centers_"
   ]
  },
  {
   "cell_type": "code",
   "execution_count": 36,
   "metadata": {},
   "outputs": [
    {
     "data": {
      "text/plain": [
       "KMeans(algorithm='auto', copy_x=True, init='k-means++', max_iter=300,\n",
       "    n_clusters=2, n_init=10, n_jobs=1, precompute_distances='auto',\n",
       "    random_state=148461, tol=0.0001, verbose=0)"
      ]
     },
     "execution_count": 36,
     "metadata": {},
     "output_type": "execute_result"
    }
   ],
   "source": [
    "kmeans"
   ]
  },
  {
   "cell_type": "code",
   "execution_count": 37,
   "metadata": {},
   "outputs": [
    {
     "data": {
      "text/plain": [
       "array([[-0.52843099, -0.22232657, -0.22873986,  0.09916336,  0.03791991,\n",
       "        -0.04224132,  0.00690631, -0.58704799],\n",
       "       [ 0.9630712 ,  0.40519258,  0.41688086, -0.18072629, -0.06910944,\n",
       "         0.07698527, -0.01258682,  1.06990131]])"
      ]
     },
     "execution_count": 37,
     "metadata": {},
     "output_type": "execute_result"
    }
   ],
   "source": [
    "centroids"
   ]
  },
  {
   "cell_type": "code",
   "execution_count": 38,
   "metadata": {},
   "outputs": [
    {
     "data": {
      "text/plain": [
       "array([0, 0, 1, 0, 1, 0, 0, 0, 1, 0, 1, 0, 0, 0, 0, 0, 0, 0, 0, 1, 0, 0, 0,\n",
       "       0, 0, 1, 0, 1, 0, 0, 0, 0, 0, 0, 0, 1, 0, 0, 1, 1, 0, 0, 0, 1, 1, 0,\n",
       "       1, 0, 0, 0, 1, 0, 0, 1, 0, 0, 0, 0, 1, 0, 0, 1, 0, 1, 0, 0, 0, 1, 1,\n",
       "       1, 0, 0, 0, 1, 0, 1, 0, 1, 1, 0, 0, 0, 0, 0, 1, 0, 0, 0, 1, 1, 0, 0,\n",
       "       0, 0, 1, 0, 0, 0, 0, 0, 0, 0, 1, 0, 0, 0, 0, 1, 0, 0, 0, 1, 0, 0, 0,\n",
       "       0, 1, 0, 1, 0, 1, 0, 0, 0, 0, 1, 0, 0, 1, 0, 1, 1, 1, 1, 0, 0, 1, 0,\n",
       "       0, 0, 0, 1, 0, 0, 0, 0, 1, 0, 0, 0, 0, 0, 0, 0, 0, 0, 0, 1, 1, 0, 0,\n",
       "       1, 1, 0, 0, 0, 0, 1, 0, 0, 1, 0, 0, 0, 1, 1, 1, 0, 0, 1, 0, 1, 0, 0,\n",
       "       1, 1, 0, 1, 0, 0, 1, 0, 0, 1, 1, 0, 0, 1, 1, 1, 0, 0, 0, 0, 1, 0, 0,\n",
       "       0, 1, 1, 1, 0, 1, 1, 1, 0, 1, 0, 0, 0, 0, 0, 0, 1, 1, 0, 1, 0, 0, 1,\n",
       "       0, 0, 1, 0, 1, 1, 0, 0, 0, 0, 0, 0, 0, 0, 1, 0, 1, 0, 1, 1, 1, 1, 0,\n",
       "       1, 1, 0, 0, 0, 0, 1, 1, 0, 1, 0, 0, 1, 0, 1, 0, 1, 0, 0, 0, 0, 0, 0,\n",
       "       0, 0, 0, 0, 0, 1, 1, 0, 0, 0, 0, 0, 0, 1, 0, 1, 0, 0, 0, 1, 0, 0, 1,\n",
       "       1, 0, 0, 1, 1, 0, 0, 0, 1, 1, 1, 1, 0, 0, 0, 0, 1, 1, 0, 0, 0, 0, 1,\n",
       "       0, 0, 1, 0, 0, 0, 1, 1, 1, 0, 1, 0, 0, 1, 0, 0, 0, 1, 0, 1, 0, 0, 0,\n",
       "       1, 0, 0, 1, 1, 0, 0, 0, 1, 0, 1, 1, 0, 0, 0, 0, 0, 1, 0, 1, 1, 1, 0,\n",
       "       0, 0, 0, 0, 0, 0, 0, 1, 1, 0, 0, 0, 0, 1, 0, 1, 1, 0, 0, 1, 1, 1, 0,\n",
       "       0, 1, 0, 1, 1, 1, 1, 1, 0, 1, 1, 0, 1, 0, 0, 0, 0, 1, 1, 0, 0, 0, 0,\n",
       "       0, 0, 0, 0, 0, 0, 1, 1, 0, 1, 0, 0, 1, 0, 1, 0, 1, 0, 0, 0, 1, 0, 0,\n",
       "       1, 0, 0, 1, 1, 0, 0, 1, 0, 0, 0, 1, 0, 1, 0, 0, 1, 1, 1, 0, 0, 1, 0,\n",
       "       0, 0, 1, 0, 0, 1, 0, 0, 0, 0, 0, 0, 1, 0, 0, 0, 0, 0, 1, 0, 1, 0, 0,\n",
       "       0, 1, 0, 1, 0, 1, 0, 1, 1, 1, 0, 1, 0, 0, 1, 0, 0, 0, 1, 1, 1, 1, 0,\n",
       "       0, 0, 0, 0, 1, 0, 0, 0, 0, 0, 1, 1, 0, 0, 1, 0, 0, 0, 1, 0, 0, 1, 0,\n",
       "       0, 1, 0, 0, 0, 0, 1, 1, 1, 0, 1, 1, 1, 0, 0, 0, 0, 0, 1, 0, 0, 0, 0,\n",
       "       1, 0, 1, 0, 0, 1, 0, 0, 1, 0, 1, 0, 1, 1, 1, 1, 1, 1, 0, 0, 0, 0, 1,\n",
       "       1, 0, 1, 1, 0, 0, 0, 0, 0, 1, 0, 1, 0, 0, 0, 0, 1, 1, 0, 1, 0, 1, 0,\n",
       "       0, 0, 0, 0, 0, 1, 0, 1, 1, 0, 0, 0, 1, 0, 1, 1, 0, 0, 0, 0, 0, 1, 0,\n",
       "       1, 1, 0, 0, 1, 0, 0, 0, 0, 0, 0, 1, 0, 0, 0, 1, 1, 0, 0, 0, 0, 1, 0,\n",
       "       0, 1, 0, 0, 0, 1, 0, 0], dtype=int32)"
      ]
     },
     "execution_count": 38,
     "metadata": {},
     "output_type": "execute_result"
    }
   ],
   "source": [
    "labels"
   ]
  },
  {
   "cell_type": "code",
   "execution_count": 39,
   "metadata": {
    "collapsed": true
   },
   "outputs": [],
   "source": [
    "# Getting the cluster labels for the test Data set\n",
    "labels_test = kmeans.predict(X_test_std)\n"
   ]
  },
  {
   "cell_type": "code",
   "execution_count": 40,
   "metadata": {},
   "outputs": [
    {
     "data": {
      "text/plain": [
       "array([1, 1, 1, 1, 0, 0, 0, 0, 1, 0, 0, 0, 0, 1, 0, 0, 0, 0, 0, 1, 0, 1, 1,\n",
       "       0, 1, 0, 0, 1, 1, 0, 1, 0, 0, 0, 1, 0, 1, 0, 1, 0, 0, 0, 1, 0, 1, 1,\n",
       "       1, 0, 0, 0, 0, 0, 0, 0, 1, 0, 1, 0, 0, 0, 0, 0, 0, 0, 1, 0, 1, 0, 1,\n",
       "       0, 1, 1, 0, 0, 0, 1, 0, 1, 0, 0, 1, 0, 0, 0, 0, 0, 1, 0, 1, 0, 0, 0,\n",
       "       0, 0, 1, 0, 1, 0, 0, 0, 0, 0, 0, 1, 0, 0, 0, 0, 0, 0, 0, 1, 0, 0, 1,\n",
       "       0], dtype=int32)"
      ]
     },
     "execution_count": 40,
     "metadata": {},
     "output_type": "execute_result"
    }
   ],
   "source": [
    "labels_test"
   ]
  },
  {
   "cell_type": "code",
   "execution_count": 41,
   "metadata": {},
   "outputs": [
    {
     "name": "stdout",
     "output_type": "stream",
     "text": [
      "[[-0.52843099 -0.22232657 -0.22873986  0.09916336  0.03791991 -0.04224132\n",
      "   0.00690631 -0.58704799]\n",
      " [ 0.9630712   0.40519258  0.41688086 -0.18072629 -0.06910944  0.07698527\n",
      "  -0.01258682  1.06990131]]\n",
      "4338.19716895\n"
     ]
    }
   ],
   "source": [
    "print(kmeans.cluster_centers_)\n",
    "print(kmeans.inertia_) #Total sum of squares for distance between each point and their corresponding cluster centroid"
   ]
  },
  {
   "cell_type": "markdown",
   "metadata": {},
   "source": [
    "#### In the above case, we have randomly selected two clusters. But how would we know if two clusters is ideal... \n",
    "- THe clustering is said to be good, if the points in the cluster are closer to each other and the clusters themselves are far apart. The two quantities which describe the above said factors are \"Within Sum of Squares (wss)\" and \"Between Sum of Squares(bss)\" respectively. In kmeans python, wss is defined ad inertia. \n",
    "- Ideally, if wss is minimum, we have a better clustering. \n",
    "- Now the question is.. how do we choose k "
   ]
  },
  {
   "cell_type": "code",
   "execution_count": 42,
   "metadata": {
    "collapsed": true
   },
   "outputs": [],
   "source": [
    "wss= {}\n",
    "for k in range(1, 10):\n",
    "    kmeans = KMeans(n_clusters=k, max_iter=1000).fit(X_train_std)\n",
    "    clusters = kmeans.labels_\n",
    "    wss[k] = kmeans.inertia_ # Inertia: Sum of squared distances of samples to their closest cluster center\n",
    "    "
   ]
  },
  {
   "cell_type": "code",
   "execution_count": 43,
   "metadata": {},
   "outputs": [
    {
     "data": {
      "text/plain": [
       "{1: 5216.0,\n",
       " 2: 4337.9945623874391,\n",
       " 3: 3704.1993885407346,\n",
       " 4: 3339.9712410695392,\n",
       " 5: 3090.8168807672628,\n",
       " 6: 2859.1771050216912,\n",
       " 7: 2676.2003624319595,\n",
       " 8: 2564.6292443154148,\n",
       " 9: 2446.6655104844667}"
      ]
     },
     "execution_count": 43,
     "metadata": {},
     "output_type": "execute_result"
    }
   ],
   "source": [
    "wss"
   ]
  },
  {
   "cell_type": "code",
   "execution_count": 44,
   "metadata": {},
   "outputs": [
    {
     "data": {
      "image/png": "[encoded data removed]",
      "text/plain": [
       "<matplotlib.figure.Figure at 0x7ff7d14ae278>"
      ]
     },
     "metadata": {},
     "output_type": "display_data"
    }
   ],
   "source": [
    "plt.figure()\n",
    "plt.plot(list(wss.keys()), list(wss.values()))\n",
    "plt.xlabel(\"Number of cluster\")\n",
    "plt.ylabel(\"WSS\")\n",
    "plt.show()"
   ]
  },
  {
   "cell_type": "markdown",
   "metadata": {},
   "source": [
    "#### Checking for cluster stability"
   ]
  },
  {
   "cell_type": "code",
   "execution_count": 45,
   "metadata": {
    "collapsed": true
   },
   "outputs": [],
   "source": [
    "from sklearn.metrics import adjusted_rand_score\n",
    "import numpy as np"
   ]
  },
  {
   "cell_type": "code",
   "execution_count": 46,
   "metadata": {
    "collapsed": true
   },
   "outputs": [],
   "source": [
    "X_train_std=pd.DataFrame(X_train_std)"
   ]
  },
  {
   "cell_type": "code",
   "execution_count": 47,
   "metadata": {},
   "outputs": [
    {
     "data": {
      "text/plain": [
       "(652, 8)"
      ]
     },
     "execution_count": 47,
     "metadata": {},
     "output_type": "execute_result"
    }
   ],
   "source": [
    "X_train_std.shape"
   ]
  },
  {
   "cell_type": "code",
   "execution_count": 48,
   "metadata": {
    "scrolled": false
   },
   "outputs": [
    {
     "name": "stdout",
     "output_type": "stream",
     "text": [
      "Int64Index([366, 266, 156, 572, 187, 327, 378, 146, 494, 240,\n",
      "            ...\n",
      "            346, 354, 256, 340, 183, 574, 434, 334, 235, 311],\n",
      "           dtype='int64', length=587)\n"
     ]
    }
   ],
   "source": [
    "indices=X_train_std.sample(frac=0.9,random_state=1234).index\n",
    "print(indices)"
   ]
  },
  {
   "cell_type": "code",
   "execution_count": 49,
   "metadata": {
    "collapsed": true
   },
   "outputs": [],
   "source": [
    "Alpha=X_train_std.iloc[indices,:]"
   ]
  },
  {
   "cell_type": "code",
   "execution_count": 50,
   "metadata": {},
   "outputs": [
    {
     "data": {
      "text/plain": [
       "(587, 8)"
      ]
     },
     "execution_count": 50,
     "metadata": {},
     "output_type": "execute_result"
    }
   ],
   "source": [
    "Alpha.shape"
   ]
  },
  {
   "cell_type": "code",
   "execution_count": 51,
   "metadata": {},
   "outputs": [
    {
     "name": "stdout",
     "output_type": "stream",
     "text": [
      "652\n"
     ]
    }
   ],
   "source": [
    "kmeans = KMeans(n_clusters=2)\n",
    "kmeans1 = kmeans.fit(X_train_std)\n",
    "print(len(kmeans1.labels_))\n",
    "X_train_std['clus']=kmeans1.labels_"
   ]
  },
  {
   "cell_type": "code",
   "execution_count": 52,
   "metadata": {},
   "outputs": [
    {
     "name": "stdout",
     "output_type": "stream",
     "text": [
      "587\n"
     ]
    },
    {
     "name": "stderr",
     "output_type": "stream",
     "text": [
      "/home/bhargavi/anaconda3/lib/python3.6/site-packages/ipykernel_launcher.py:4: SettingWithCopyWarning: \n",
      "A value is trying to be set on a copy of a slice from a DataFrame.\n",
      "Try using .loc[row_indexer,col_indexer] = value instead\n",
      "\n",
      "See the caveats in the documentation: http://pandas.pydata.org/pandas-docs/stable/indexing.html#indexing-view-versus-copy\n",
      "  after removing the cwd from sys.path.\n"
     ]
    }
   ],
   "source": [
    "kmeans = KMeans(n_clusters=2)\n",
    "kmeans2=kmeans.fit(Alpha)\n",
    "print(len(kmeans2.labels_))\n",
    "Alpha['clus']=kmeans2.labels_"
   ]
  },
  {
   "cell_type": "code",
   "execution_count": 53,
   "metadata": {},
   "outputs": [
    {
     "data": {
      "text/plain": [
       "(587, 9)"
      ]
     },
     "execution_count": 53,
     "metadata": {},
     "output_type": "execute_result"
    }
   ],
   "source": [
    "Alpha.shape"
   ]
  },
  {
   "cell_type": "code",
   "execution_count": 54,
   "metadata": {
    "collapsed": true
   },
   "outputs": [],
   "source": [
    "g1=X_train_std.loc[indices,'clus']\n",
    "g2=Alpha.clus\n",
    "\n",
    "#x=pd.DataFrame()\n",
    "#x.head(20)"
   ]
  },
  {
   "cell_type": "code",
   "execution_count": 55,
   "metadata": {},
   "outputs": [
    {
     "data": {
      "text/plain": [
       "0.9727018165995106"
      ]
     },
     "execution_count": 55,
     "metadata": {},
     "output_type": "execute_result"
    }
   ],
   "source": [
    "adjusted_rand_score(g1,g2)"
   ]
  }
 ],
 "metadata": {
  "kernelspec": {
   "display_name": "Python 3",
   "language": "python",
   "name": "python3"
  },
  "language_info": {
   "codemirror_mode": {
    "name": "ipython",
    "version": 3
   },
   "file_extension": ".py",
   "mimetype": "text/x-python",
   "name": "python",
   "nbconvert_exporter": "python",
   "pygments_lexer": "ipython3",
   "version": "3.6.4"
  }
 },
 "nbformat": 4,
 "nbformat_minor": 2
}
